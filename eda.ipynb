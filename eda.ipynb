{
 "cells": [
  {
   "cell_type": "markdown",
   "metadata": {},
   "source": [
    "# Exploratory Data Analysis"
   ]
  },
  {
   "cell_type": "markdown",
   "metadata": {},
   "source": [
    "## Import Libraries"
   ]
  },
  {
   "cell_type": "code",
   "execution_count": 1,
   "metadata": {},
   "outputs": [],
   "source": [
    "import pandas as pd\n",
    "from wordcloud import WordCloud\n",
    "import matplotlib.pyplot as plt"
   ]
  },
  {
   "cell_type": "markdown",
   "metadata": {},
   "source": [
    "## Load Dataset"
   ]
  },
  {
   "cell_type": "code",
   "execution_count": 2,
   "metadata": {},
   "outputs": [
    {
     "data": {
      "text/html": [
       "<div>\n",
       "<style scoped>\n",
       "    .dataframe tbody tr th:only-of-type {\n",
       "        vertical-align: middle;\n",
       "    }\n",
       "\n",
       "    .dataframe tbody tr th {\n",
       "        vertical-align: top;\n",
       "    }\n",
       "\n",
       "    .dataframe thead th {\n",
       "        text-align: right;\n",
       "    }\n",
       "</style>\n",
       "<table border=\"1\" class=\"dataframe\">\n",
       "  <thead>\n",
       "    <tr style=\"text-align: right;\">\n",
       "      <th></th>\n",
       "      <th>job_link</th>\n",
       "      <th>job_title</th>\n",
       "      <th>company</th>\n",
       "      <th>job_location</th>\n",
       "      <th>first_seen</th>\n",
       "      <th>search_city</th>\n",
       "      <th>search_country</th>\n",
       "      <th>job_type</th>\n",
       "    </tr>\n",
       "  </thead>\n",
       "  <tbody>\n",
       "    <tr>\n",
       "      <th>0</th>\n",
       "      <td>https://www.linkedin.com/jobs/view/senior-mach...</td>\n",
       "      <td>Senior Machine Learning Engineer</td>\n",
       "      <td>Jobs for Humanity</td>\n",
       "      <td>New Haven, CT</td>\n",
       "      <td>2024-01-14</td>\n",
       "      <td>East Haven</td>\n",
       "      <td>United States</td>\n",
       "      <td>Onsite</td>\n",
       "    </tr>\n",
       "    <tr>\n",
       "      <th>1</th>\n",
       "      <td>https://www.linkedin.com/jobs/view/principal-s...</td>\n",
       "      <td>Principal Software Engineer, ML Accelerators</td>\n",
       "      <td>Aurora</td>\n",
       "      <td>San Francisco, CA</td>\n",
       "      <td>2024-01-14</td>\n",
       "      <td>El Cerrito</td>\n",
       "      <td>United States</td>\n",
       "      <td>Onsite</td>\n",
       "    </tr>\n",
       "    <tr>\n",
       "      <th>2</th>\n",
       "      <td>https://www.linkedin.com/jobs/view/senior-etl-...</td>\n",
       "      <td>Senior ETL Data Warehouse Specialist</td>\n",
       "      <td>Adame Services LLC</td>\n",
       "      <td>New York, NY</td>\n",
       "      <td>2024-01-14</td>\n",
       "      <td>Middletown</td>\n",
       "      <td>United States</td>\n",
       "      <td>Onsite</td>\n",
       "    </tr>\n",
       "    <tr>\n",
       "      <th>3</th>\n",
       "      <td>https://www.linkedin.com/jobs/view/senior-data...</td>\n",
       "      <td>Senior Data Warehouse Developer / Architect</td>\n",
       "      <td>Morph Enterprise</td>\n",
       "      <td>Harrisburg, PA</td>\n",
       "      <td>2024-01-12</td>\n",
       "      <td>Lebanon</td>\n",
       "      <td>United States</td>\n",
       "      <td>Onsite</td>\n",
       "    </tr>\n",
       "    <tr>\n",
       "      <th>4</th>\n",
       "      <td>https://www.linkedin.com/jobs/view/lead-data-e...</td>\n",
       "      <td>Lead Data Engineer</td>\n",
       "      <td>Dice</td>\n",
       "      <td>Plano, TX</td>\n",
       "      <td>2024-01-14</td>\n",
       "      <td>McKinney</td>\n",
       "      <td>United States</td>\n",
       "      <td>Onsite</td>\n",
       "    </tr>\n",
       "  </tbody>\n",
       "</table>\n",
       "</div>"
      ],
      "text/plain": [
       "                                            job_link  \\\n",
       "0  https://www.linkedin.com/jobs/view/senior-mach...   \n",
       "1  https://www.linkedin.com/jobs/view/principal-s...   \n",
       "2  https://www.linkedin.com/jobs/view/senior-etl-...   \n",
       "3  https://www.linkedin.com/jobs/view/senior-data...   \n",
       "4  https://www.linkedin.com/jobs/view/lead-data-e...   \n",
       "\n",
       "                                      job_title             company  \\\n",
       "0              Senior Machine Learning Engineer   Jobs for Humanity   \n",
       "1  Principal Software Engineer, ML Accelerators              Aurora   \n",
       "2          Senior ETL Data Warehouse Specialist  Adame Services LLC   \n",
       "3   Senior Data Warehouse Developer / Architect    Morph Enterprise   \n",
       "4                            Lead Data Engineer                Dice   \n",
       "\n",
       "        job_location  first_seen search_city search_country job_type  \n",
       "0      New Haven, CT  2024-01-14  East Haven  United States   Onsite  \n",
       "1  San Francisco, CA  2024-01-14  El Cerrito  United States   Onsite  \n",
       "2       New York, NY  2024-01-14  Middletown  United States   Onsite  \n",
       "3     Harrisburg, PA  2024-01-12     Lebanon  United States   Onsite  \n",
       "4          Plano, TX  2024-01-14    McKinney  United States   Onsite  "
      ]
     },
     "execution_count": 2,
     "metadata": {},
     "output_type": "execute_result"
    }
   ],
   "source": [
    "post_df = pd.read_csv('data/job_postings.csv')\n",
    "key_info_post_df = post_df[['job_link', 'job_title', 'company', 'job_location', 'first_seen', 'search_city', 'search_country', 'job_type']].copy()\n",
    "key_info_post_df.head()"
   ]
  },
  {
   "cell_type": "code",
   "execution_count": 3,
   "metadata": {},
   "outputs": [
    {
     "data": {
      "text/html": [
       "<div>\n",
       "<style scoped>\n",
       "    .dataframe tbody tr th:only-of-type {\n",
       "        vertical-align: middle;\n",
       "    }\n",
       "\n",
       "    .dataframe tbody tr th {\n",
       "        vertical-align: top;\n",
       "    }\n",
       "\n",
       "    .dataframe thead th {\n",
       "        text-align: right;\n",
       "    }\n",
       "</style>\n",
       "<table border=\"1\" class=\"dataframe\">\n",
       "  <thead>\n",
       "    <tr style=\"text-align: right;\">\n",
       "      <th></th>\n",
       "      <th>job_link</th>\n",
       "      <th>job_skills</th>\n",
       "    </tr>\n",
       "  </thead>\n",
       "  <tbody>\n",
       "    <tr>\n",
       "      <th>0</th>\n",
       "      <td>https://www.linkedin.com/jobs/view/senior-mach...</td>\n",
       "      <td>Machine Learning, Programming, Python, Scala, ...</td>\n",
       "    </tr>\n",
       "    <tr>\n",
       "      <th>1</th>\n",
       "      <td>https://www.linkedin.com/jobs/view/principal-s...</td>\n",
       "      <td>C++, Python, PyTorch, TensorFlow, MXNet, CUDA,...</td>\n",
       "    </tr>\n",
       "    <tr>\n",
       "      <th>2</th>\n",
       "      <td>https://www.linkedin.com/jobs/view/senior-etl-...</td>\n",
       "      <td>ETL, Data Integration, Data Transformation, Da...</td>\n",
       "    </tr>\n",
       "    <tr>\n",
       "      <th>3</th>\n",
       "      <td>https://www.linkedin.com/jobs/view/senior-data...</td>\n",
       "      <td>Data Lakes, Data Bricks, Azure Data Factory Pi...</td>\n",
       "    </tr>\n",
       "    <tr>\n",
       "      <th>4</th>\n",
       "      <td>https://www.linkedin.com/jobs/view/lead-data-e...</td>\n",
       "      <td>Java, Scala, Python, RDBMS, NoSQL, Redshift, S...</td>\n",
       "    </tr>\n",
       "  </tbody>\n",
       "</table>\n",
       "</div>"
      ],
      "text/plain": [
       "                                            job_link  \\\n",
       "0  https://www.linkedin.com/jobs/view/senior-mach...   \n",
       "1  https://www.linkedin.com/jobs/view/principal-s...   \n",
       "2  https://www.linkedin.com/jobs/view/senior-etl-...   \n",
       "3  https://www.linkedin.com/jobs/view/senior-data...   \n",
       "4  https://www.linkedin.com/jobs/view/lead-data-e...   \n",
       "\n",
       "                                          job_skills  \n",
       "0  Machine Learning, Programming, Python, Scala, ...  \n",
       "1  C++, Python, PyTorch, TensorFlow, MXNet, CUDA,...  \n",
       "2  ETL, Data Integration, Data Transformation, Da...  \n",
       "3  Data Lakes, Data Bricks, Azure Data Factory Pi...  \n",
       "4  Java, Scala, Python, RDBMS, NoSQL, Redshift, S...  "
      ]
     },
     "execution_count": 3,
     "metadata": {},
     "output_type": "execute_result"
    }
   ],
   "source": [
    "skill_df = pd.read_csv('data/job_skills.csv')\n",
    "skill_df.head()"
   ]
  },
  {
   "cell_type": "code",
   "execution_count": 4,
   "metadata": {},
   "outputs": [
    {
     "data": {
      "text/html": [
       "<div>\n",
       "<style scoped>\n",
       "    .dataframe tbody tr th:only-of-type {\n",
       "        vertical-align: middle;\n",
       "    }\n",
       "\n",
       "    .dataframe tbody tr th {\n",
       "        vertical-align: top;\n",
       "    }\n",
       "\n",
       "    .dataframe thead th {\n",
       "        text-align: right;\n",
       "    }\n",
       "</style>\n",
       "<table border=\"1\" class=\"dataframe\">\n",
       "  <thead>\n",
       "    <tr style=\"text-align: right;\">\n",
       "      <th></th>\n",
       "      <th>job_link</th>\n",
       "      <th>job_title</th>\n",
       "      <th>company</th>\n",
       "      <th>job_location</th>\n",
       "      <th>first_seen</th>\n",
       "      <th>search_city</th>\n",
       "      <th>search_country</th>\n",
       "      <th>job_type</th>\n",
       "      <th>job_skills</th>\n",
       "    </tr>\n",
       "  </thead>\n",
       "  <tbody>\n",
       "    <tr>\n",
       "      <th>0</th>\n",
       "      <td>https://www.linkedin.com/jobs/view/senior-mach...</td>\n",
       "      <td>Senior Machine Learning Engineer</td>\n",
       "      <td>Jobs for Humanity</td>\n",
       "      <td>New Haven, CT</td>\n",
       "      <td>2024-01-14</td>\n",
       "      <td>East Haven</td>\n",
       "      <td>United States</td>\n",
       "      <td>Onsite</td>\n",
       "      <td>Machine Learning, Programming, Python, Scala, ...</td>\n",
       "    </tr>\n",
       "    <tr>\n",
       "      <th>1</th>\n",
       "      <td>https://www.linkedin.com/jobs/view/principal-s...</td>\n",
       "      <td>Principal Software Engineer, ML Accelerators</td>\n",
       "      <td>Aurora</td>\n",
       "      <td>San Francisco, CA</td>\n",
       "      <td>2024-01-14</td>\n",
       "      <td>El Cerrito</td>\n",
       "      <td>United States</td>\n",
       "      <td>Onsite</td>\n",
       "      <td>C++, Python, PyTorch, TensorFlow, MXNet, CUDA,...</td>\n",
       "    </tr>\n",
       "    <tr>\n",
       "      <th>2</th>\n",
       "      <td>https://www.linkedin.com/jobs/view/senior-etl-...</td>\n",
       "      <td>Senior ETL Data Warehouse Specialist</td>\n",
       "      <td>Adame Services LLC</td>\n",
       "      <td>New York, NY</td>\n",
       "      <td>2024-01-14</td>\n",
       "      <td>Middletown</td>\n",
       "      <td>United States</td>\n",
       "      <td>Onsite</td>\n",
       "      <td>ETL, Data Integration, Data Transformation, Da...</td>\n",
       "    </tr>\n",
       "    <tr>\n",
       "      <th>3</th>\n",
       "      <td>https://www.linkedin.com/jobs/view/senior-data...</td>\n",
       "      <td>Senior Data Warehouse Developer / Architect</td>\n",
       "      <td>Morph Enterprise</td>\n",
       "      <td>Harrisburg, PA</td>\n",
       "      <td>2024-01-12</td>\n",
       "      <td>Lebanon</td>\n",
       "      <td>United States</td>\n",
       "      <td>Onsite</td>\n",
       "      <td>Data Lakes, Data Bricks, Azure Data Factory Pi...</td>\n",
       "    </tr>\n",
       "    <tr>\n",
       "      <th>4</th>\n",
       "      <td>https://www.linkedin.com/jobs/view/lead-data-e...</td>\n",
       "      <td>Lead Data Engineer</td>\n",
       "      <td>Dice</td>\n",
       "      <td>Plano, TX</td>\n",
       "      <td>2024-01-14</td>\n",
       "      <td>McKinney</td>\n",
       "      <td>United States</td>\n",
       "      <td>Onsite</td>\n",
       "      <td>Java, Scala, Python, RDBMS, NoSQL, Redshift, S...</td>\n",
       "    </tr>\n",
       "  </tbody>\n",
       "</table>\n",
       "</div>"
      ],
      "text/plain": [
       "                                            job_link  \\\n",
       "0  https://www.linkedin.com/jobs/view/senior-mach...   \n",
       "1  https://www.linkedin.com/jobs/view/principal-s...   \n",
       "2  https://www.linkedin.com/jobs/view/senior-etl-...   \n",
       "3  https://www.linkedin.com/jobs/view/senior-data...   \n",
       "4  https://www.linkedin.com/jobs/view/lead-data-e...   \n",
       "\n",
       "                                      job_title             company  \\\n",
       "0              Senior Machine Learning Engineer   Jobs for Humanity   \n",
       "1  Principal Software Engineer, ML Accelerators              Aurora   \n",
       "2          Senior ETL Data Warehouse Specialist  Adame Services LLC   \n",
       "3   Senior Data Warehouse Developer / Architect    Morph Enterprise   \n",
       "4                            Lead Data Engineer                Dice   \n",
       "\n",
       "        job_location  first_seen search_city search_country job_type  \\\n",
       "0      New Haven, CT  2024-01-14  East Haven  United States   Onsite   \n",
       "1  San Francisco, CA  2024-01-14  El Cerrito  United States   Onsite   \n",
       "2       New York, NY  2024-01-14  Middletown  United States   Onsite   \n",
       "3     Harrisburg, PA  2024-01-12     Lebanon  United States   Onsite   \n",
       "4          Plano, TX  2024-01-14    McKinney  United States   Onsite   \n",
       "\n",
       "                                          job_skills  \n",
       "0  Machine Learning, Programming, Python, Scala, ...  \n",
       "1  C++, Python, PyTorch, TensorFlow, MXNet, CUDA,...  \n",
       "2  ETL, Data Integration, Data Transformation, Da...  \n",
       "3  Data Lakes, Data Bricks, Azure Data Factory Pi...  \n",
       "4  Java, Scala, Python, RDBMS, NoSQL, Redshift, S...  "
      ]
     },
     "execution_count": 4,
     "metadata": {},
     "output_type": "execute_result"
    }
   ],
   "source": [
    "merged_df = key_info_post_df.merge(skill_df, on='job_link')\n",
    "merged_df.head()"
   ]
  },
  {
   "cell_type": "code",
   "execution_count": 5,
   "metadata": {},
   "outputs": [
    {
     "name": "stdout",
     "output_type": "stream",
     "text": [
      "<class 'pandas.core.frame.DataFrame'>\n",
      "Int64Index: 12217 entries, 0 to 12216\n",
      "Data columns (total 9 columns):\n",
      " #   Column          Non-Null Count  Dtype \n",
      "---  ------          --------------  ----- \n",
      " 0   job_link        12217 non-null  object\n",
      " 1   job_title       12217 non-null  object\n",
      " 2   company         12217 non-null  object\n",
      " 3   job_location    12216 non-null  object\n",
      " 4   first_seen      12217 non-null  object\n",
      " 5   search_city     12217 non-null  object\n",
      " 6   search_country  12217 non-null  object\n",
      " 7   job_type        12217 non-null  object\n",
      " 8   job_skills      12212 non-null  object\n",
      "dtypes: object(9)\n",
      "memory usage: 954.5+ KB\n"
     ]
    }
   ],
   "source": [
    "merged_df.info()"
   ]
  },
  {
   "cell_type": "markdown",
   "metadata": {},
   "source": [
    "## Filter Jobs with Data Science/Scientist Title in US"
   ]
  },
  {
   "cell_type": "markdown",
   "metadata": {},
   "source": [
    "### Filter Jobs"
   ]
  },
  {
   "cell_type": "code",
   "execution_count": 6,
   "metadata": {},
   "outputs": [
    {
     "name": "stdout",
     "output_type": "stream",
     "text": [
      "<class 'pandas.core.frame.DataFrame'>\n",
      "Int64Index: 880 entries, 30 to 12214\n",
      "Data columns (total 9 columns):\n",
      " #   Column          Non-Null Count  Dtype \n",
      "---  ------          --------------  ----- \n",
      " 0   job_link        880 non-null    object\n",
      " 1   job_title       880 non-null    object\n",
      " 2   company         880 non-null    object\n",
      " 3   job_location    880 non-null    object\n",
      " 4   first_seen      880 non-null    object\n",
      " 5   search_city     880 non-null    object\n",
      " 6   search_country  880 non-null    object\n",
      " 7   job_type        880 non-null    object\n",
      " 8   job_skills      880 non-null    object\n",
      "dtypes: object(9)\n",
      "memory usage: 68.8+ KB\n"
     ]
    }
   ],
   "source": [
    "titles = ['Data Sci']\n",
    "filter_jobs = merged_df[(merged_df['job_title'].str.contains('|'.join(titles))) & (merged_df['search_country'] == 'United States')].copy()\n",
    "filter_jobs.info()"
   ]
  },
  {
   "cell_type": "markdown",
   "metadata": {},
   "source": [
    "### Preprocess"
   ]
  },
  {
   "cell_type": "code",
   "execution_count": 7,
   "metadata": {},
   "outputs": [
    {
     "data": {
      "text/html": [
       "<div>\n",
       "<style scoped>\n",
       "    .dataframe tbody tr th:only-of-type {\n",
       "        vertical-align: middle;\n",
       "    }\n",
       "\n",
       "    .dataframe tbody tr th {\n",
       "        vertical-align: top;\n",
       "    }\n",
       "\n",
       "    .dataframe thead th {\n",
       "        text-align: right;\n",
       "    }\n",
       "</style>\n",
       "<table border=\"1\" class=\"dataframe\">\n",
       "  <thead>\n",
       "    <tr style=\"text-align: right;\">\n",
       "      <th></th>\n",
       "      <th>job_link</th>\n",
       "      <th>job_title</th>\n",
       "      <th>company</th>\n",
       "      <th>job_location</th>\n",
       "      <th>first_seen</th>\n",
       "      <th>search_city</th>\n",
       "      <th>search_country</th>\n",
       "      <th>job_type</th>\n",
       "      <th>job_skills</th>\n",
       "      <th>job_loc_city</th>\n",
       "      <th>job_loc_state</th>\n",
       "    </tr>\n",
       "  </thead>\n",
       "  <tbody>\n",
       "    <tr>\n",
       "      <th>30</th>\n",
       "      <td>https://www.linkedin.com/jobs/view/data-scient...</td>\n",
       "      <td>Data Scientist</td>\n",
       "      <td>Futran Solutions</td>\n",
       "      <td>Dallas, TX</td>\n",
       "      <td>2024-01-12</td>\n",
       "      <td>Arlington</td>\n",
       "      <td>United States</td>\n",
       "      <td>Onsite</td>\n",
       "      <td>Data science, Machine learning, Artificial int...</td>\n",
       "      <td>Dallas</td>\n",
       "      <td>TX</td>\n",
       "    </tr>\n",
       "    <tr>\n",
       "      <th>34</th>\n",
       "      <td>https://www.linkedin.com/jobs/view/data-scient...</td>\n",
       "      <td>Data Scientist</td>\n",
       "      <td>RAND Corporation</td>\n",
       "      <td>Washington, DC</td>\n",
       "      <td>2024-01-16</td>\n",
       "      <td>Clinton</td>\n",
       "      <td>United States</td>\n",
       "      <td>Onsite</td>\n",
       "      <td>Data Management, Statistical Analysis, SAS, R,...</td>\n",
       "      <td>Washington</td>\n",
       "      <td>DC</td>\n",
       "    </tr>\n",
       "    <tr>\n",
       "      <th>40</th>\n",
       "      <td>https://www.linkedin.com/jobs/view/sr-data-sci...</td>\n",
       "      <td>Sr. Data Scientist</td>\n",
       "      <td>ANSER</td>\n",
       "      <td>Washington, DC</td>\n",
       "      <td>2024-01-14</td>\n",
       "      <td>West Springfield</td>\n",
       "      <td>United States</td>\n",
       "      <td>Onsite</td>\n",
       "      <td>Data Analytics, Data Engineering, Data Mining,...</td>\n",
       "      <td>Washington</td>\n",
       "      <td>DC</td>\n",
       "    </tr>\n",
       "    <tr>\n",
       "      <th>43</th>\n",
       "      <td>https://www.linkedin.com/jobs/view/sr-analyst-...</td>\n",
       "      <td>Sr Analyst IT - Data Science</td>\n",
       "      <td>Reynolds American Inc.</td>\n",
       "      <td>Winston-Salem, NC</td>\n",
       "      <td>2024-01-14</td>\n",
       "      <td>Winston-Salem</td>\n",
       "      <td>United States</td>\n",
       "      <td>Onsite</td>\n",
       "      <td>Data Analysis, Machine Learning, Python, PySpa...</td>\n",
       "      <td>Winston-Salem</td>\n",
       "      <td>NC</td>\n",
       "    </tr>\n",
       "    <tr>\n",
       "      <th>47</th>\n",
       "      <td>https://www.linkedin.com/jobs/view/staff-data-...</td>\n",
       "      <td>Staff Data Scientist, Financial Strategy</td>\n",
       "      <td>Stripe</td>\n",
       "      <td>Seattle, WA</td>\n",
       "      <td>2024-01-16</td>\n",
       "      <td>Kent</td>\n",
       "      <td>United States</td>\n",
       "      <td>Onsite</td>\n",
       "      <td>Data Science, Quantitative Field, Technical Le...</td>\n",
       "      <td>Seattle</td>\n",
       "      <td>WA</td>\n",
       "    </tr>\n",
       "  </tbody>\n",
       "</table>\n",
       "</div>"
      ],
      "text/plain": [
       "                                             job_link  \\\n",
       "30  https://www.linkedin.com/jobs/view/data-scient...   \n",
       "34  https://www.linkedin.com/jobs/view/data-scient...   \n",
       "40  https://www.linkedin.com/jobs/view/sr-data-sci...   \n",
       "43  https://www.linkedin.com/jobs/view/sr-analyst-...   \n",
       "47  https://www.linkedin.com/jobs/view/staff-data-...   \n",
       "\n",
       "                                   job_title                 company  \\\n",
       "30                            Data Scientist        Futran Solutions   \n",
       "34                            Data Scientist        RAND Corporation   \n",
       "40                        Sr. Data Scientist                   ANSER   \n",
       "43              Sr Analyst IT - Data Science  Reynolds American Inc.   \n",
       "47  Staff Data Scientist, Financial Strategy                  Stripe   \n",
       "\n",
       "         job_location  first_seen       search_city search_country job_type  \\\n",
       "30         Dallas, TX  2024-01-12         Arlington  United States   Onsite   \n",
       "34     Washington, DC  2024-01-16           Clinton  United States   Onsite   \n",
       "40     Washington, DC  2024-01-14  West Springfield  United States   Onsite   \n",
       "43  Winston-Salem, NC  2024-01-14     Winston-Salem  United States   Onsite   \n",
       "47        Seattle, WA  2024-01-16              Kent  United States   Onsite   \n",
       "\n",
       "                                           job_skills   job_loc_city  \\\n",
       "30  Data science, Machine learning, Artificial int...         Dallas   \n",
       "34  Data Management, Statistical Analysis, SAS, R,...     Washington   \n",
       "40  Data Analytics, Data Engineering, Data Mining,...     Washington   \n",
       "43  Data Analysis, Machine Learning, Python, PySpa...  Winston-Salem   \n",
       "47  Data Science, Quantitative Field, Technical Le...        Seattle   \n",
       "\n",
       "   job_loc_state  \n",
       "30            TX  \n",
       "34            DC  \n",
       "40            DC  \n",
       "43            NC  \n",
       "47            WA  "
      ]
     },
     "execution_count": 7,
     "metadata": {},
     "output_type": "execute_result"
    }
   ],
   "source": [
    "filter_jobs[['job_loc_city', 'job_loc_state']] = filter_jobs['job_location'].str.split(', ', expand=True)\n",
    "filter_jobs.dropna(how='any', inplace=True) # Drop rows with missing full address (city + state)\n",
    "filter_jobs.head()"
   ]
  },
  {
   "cell_type": "code",
   "execution_count": 8,
   "metadata": {},
   "outputs": [
    {
     "data": {
      "text/plain": [
       "Data Scientist                               103\n",
       "Senior Data Scientist                         91\n",
       "Lead Data Scientist                           34\n",
       "Sr. Data Scientist                            21\n",
       "Sr Data Scientist                             16\n",
       "                                            ... \n",
       "Data Scientist - Back End Data Engineer        1\n",
       "Machine Learning Data Scientist                1\n",
       "Data Science Developer                         1\n",
       "Technical Writer – Data Science (1106564)      1\n",
       "Senior Data Scientist - Statistics             1\n",
       "Name: job_title, Length: 429, dtype: int64"
      ]
     },
     "execution_count": 8,
     "metadata": {},
     "output_type": "execute_result"
    }
   ],
   "source": [
    "filter_jobs['job_title'].value_counts()"
   ]
  },
  {
   "cell_type": "markdown",
   "metadata": {},
   "source": [
    "### Group by Job Title"
   ]
  },
  {
   "cell_type": "code",
   "execution_count": 9,
   "metadata": {},
   "outputs": [
    {
     "data": {
      "text/plain": [
       "(102,\n",
       " Data Science Manager, Growth                             8\n",
       " Principal Data Scientist                                 8\n",
       " Data Science Manager                                     7\n",
       " Data Scientist, Senior Manager                           4\n",
       " Senior Manager, Data Science                             4\n",
       "                                                         ..\n",
       " Principal Statistician/Data Scientist                    1\n",
       " Expression of Interest: Data Science Manager             1\n",
       " Senior Manager Data Science (multiple openings) - IHM    1\n",
       " Sr Manager Advanced Analytics and Data Science           1\n",
       " Principal Data Scientist, Community                      1\n",
       " Name: job_title, Length: 66, dtype: int64)"
      ]
     },
     "execution_count": 9,
     "metadata": {},
     "output_type": "execute_result"
    }
   ],
   "source": [
    "pr_he_ma_df = filter_jobs[filter_jobs['job_title'].str.contains('|'.join(['Principal', 'Head', 'Manager']))].copy()\n",
    "len(pr_he_ma_df), pr_he_ma_df['job_title'].value_counts()"
   ]
  },
  {
   "cell_type": "code",
   "execution_count": 10,
   "metadata": {},
   "outputs": [
    {
     "data": {
      "text/plain": [
       "(237,\n",
       " Data Scientist                                                  103\n",
       " Data Scientist/Senior Data Scientist                             11\n",
       " Staff Data Scientist                                              8\n",
       " Data Scientist Lead - Property & Casualty Loss/Risk Modeling      5\n",
       " Data Scientist – Fraud Specialist                                 5\n",
       "                                                                ... \n",
       " Data Scientist - Back End Data Engineer                           1\n",
       " Data Science Developer                                            1\n",
       " Data Science and Analyst                                          1\n",
       " Data Scientist, Supply and Operation Technology                   1\n",
       " Staff Data Scientist - LLM                                        1\n",
       " Name: job_title, Length: 89, dtype: int64)"
      ]
     },
     "execution_count": 10,
     "metadata": {},
     "output_type": "execute_result"
    }
   ],
   "source": [
    "ds_df = filter_jobs[filter_jobs['job_title'].str.contains('|'.join(['^Data Sci', '^Staff Data Sci']))].copy()\n",
    "ds_df = ds_df[~ds_df.isin(pr_he_ma_df)].dropna(how='all')\n",
    "len(ds_df), ds_df['job_title'].value_counts()"
   ]
  },
  {
   "cell_type": "code",
   "execution_count": 11,
   "metadata": {},
   "outputs": [
    {
     "data": {
      "text/plain": [
       "(292,\n",
       " Senior Data Scientist                                                             91\n",
       " Sr. Data Scientist                                                                21\n",
       " Sr Data Scientist                                                                 16\n",
       " Senior Data Scientist with Security Clearance                                      8\n",
       " Senior Data Scientist, Product Growth                                              5\n",
       "                                                                                   ..\n",
       " Sr. Data Scientist, Amazon Robotics (AR)                                           1\n",
       " Sr. Data Scientist (1020250)                                                       1\n",
       " Sr. Human Resource Business Partner (Technology, Engineering and Data Science)     1\n",
       " Senior Associate Data Scientist - Machine Learning, Financial Services             1\n",
       " Senior Data Scientist - Statistics                                                 1\n",
       " Name: job_title, Length: 132, dtype: int64)"
      ]
     },
     "execution_count": 11,
     "metadata": {},
     "output_type": "execute_result"
    }
   ],
   "source": [
    "sr_ds_df = filter_jobs[filter_jobs['job_title'].str.contains('|'.join(['^Se', '^Sr']))].copy()\n",
    "sr_ds_df = sr_ds_df[~sr_ds_df.isin(pr_he_ma_df)].dropna(how='all')\n",
    "len(sr_ds_df), sr_ds_df['job_title'].value_counts()"
   ]
  },
  {
   "cell_type": "code",
   "execution_count": 12,
   "metadata": {},
   "outputs": [
    {
     "data": {
      "text/plain": [
       "(43,\n",
       " Lead Data Scientist                                            34\n",
       " Lead Data Science Analyst (multiple openings) - IHM             2\n",
       " Lead Data Scientist with Security Clearance                     1\n",
       " Lead Data Scientist - Clinical                                  1\n",
       " Lead Data Scientist (Hybrid)                                    1\n",
       " Lead Data Science Analyst (Multiple openings) - IHM             1\n",
       " Lead Data Scientist- AD Tech                                    1\n",
       " Lead Data Scientist - Top Regional Bank                         1\n",
       " Lead Data Scientist - Property & Casualty Insurance Pricing     1\n",
       " Name: job_title, dtype: int64)"
      ]
     },
     "execution_count": 12,
     "metadata": {},
     "output_type": "execute_result"
    }
   ],
   "source": [
    "le_ds_df = filter_jobs[filter_jobs['job_title'].str.contains('|'.join(['^Lead']))].copy()\n",
    "le_ds_df = le_ds_df[~le_ds_df.isin(pr_he_ma_df)].dropna(how='all')\n",
    "len(le_ds_df), le_ds_df['job_title'].value_counts()"
   ]
  },
  {
   "cell_type": "code",
   "execution_count": 13,
   "metadata": {},
   "outputs": [
    {
     "data": {
      "text/plain": [
       "(167,\n",
       " (Global Oil Gas) Senior Data Scientist Expert                                  13\n",
       " (USA) Senior, Data Scientist                                                    6\n",
       " Assistant Professor of Data Science                                             3\n",
       " Cleared Data Scientist - Workforce Analytics                                    3\n",
       " Assistant Professor of Statistics & Data Science                                2\n",
       "                                                                                ..\n",
       " Statistician/Data Scientist Fellowship                                          1\n",
       " Asst Prof Computer Science in Data Science &                                    1\n",
       " Assistant/Associate Professor - Biostatistics and Data Science                  1\n",
       " Professional Track Faculty Positions in Statistics and Data Sciences (2024)     1\n",
       " Adjunct Faculty, Data Science                                                   1\n",
       " Name: job_title, Length: 133, dtype: int64)"
      ]
     },
     "execution_count": 13,
     "metadata": {},
     "output_type": "execute_result"
    }
   ],
   "source": [
    "ot_ds_df = filter_jobs[(~filter_jobs.isin(pr_he_ma_df)) & (~filter_jobs.isin(ds_df)) & (~filter_jobs.isin(sr_ds_df)) & (~filter_jobs.isin(le_ds_df))].dropna().copy()\n",
    "len(ot_ds_df), ot_ds_df['job_title'].value_counts()"
   ]
  },
  {
   "cell_type": "markdown",
   "metadata": {},
   "source": [
    "## Merge and Save DataFrames to File"
   ]
  },
  {
   "cell_type": "code",
   "execution_count": 14,
   "metadata": {},
   "outputs": [],
   "source": [
    "pr_he_ma_df['job_level'] = 'Principle/Head/Manager'\n",
    "ds_df['job_level'] = 'Data Science/Scientist'\n",
    "sr_ds_df['job_level'] = 'Senior Data Science/Scientist'\n",
    "le_ds_df['job_level'] = 'Lead Data Science/Scientist'\n",
    "ot_ds_df['job_level'] = 'Other'\n",
    "\n",
    "jobs_df = pd.concat([pr_he_ma_df, ds_df, sr_ds_df, le_ds_df, ot_ds_df])\n",
    "jobs_df.to_csv('data/preprocessed_jobs.csv', index=False)"
   ]
  },
  {
   "cell_type": "markdown",
   "metadata": {},
   "source": [
    "## Some Stats"
   ]
  },
  {
   "cell_type": "markdown",
   "metadata": {},
   "source": [
    "### Count jobs across experience levels"
   ]
  },
  {
   "cell_type": "code",
   "execution_count": 15,
   "metadata": {},
   "outputs": [
    {
     "data": {
      "text/html": [
       "<div>\n",
       "<style scoped>\n",
       "    .dataframe tbody tr th:only-of-type {\n",
       "        vertical-align: middle;\n",
       "    }\n",
       "\n",
       "    .dataframe tbody tr th {\n",
       "        vertical-align: top;\n",
       "    }\n",
       "\n",
       "    .dataframe thead th {\n",
       "        text-align: right;\n",
       "    }\n",
       "</style>\n",
       "<table border=\"1\" class=\"dataframe\">\n",
       "  <thead>\n",
       "    <tr style=\"text-align: right;\">\n",
       "      <th></th>\n",
       "      <th>count</th>\n",
       "    </tr>\n",
       "    <tr>\n",
       "      <th>job_level</th>\n",
       "      <th></th>\n",
       "    </tr>\n",
       "  </thead>\n",
       "  <tbody>\n",
       "    <tr>\n",
       "      <th>Lead Data Science/Scientist</th>\n",
       "      <td>43</td>\n",
       "    </tr>\n",
       "    <tr>\n",
       "      <th>Principle/Head/Manager</th>\n",
       "      <td>102</td>\n",
       "    </tr>\n",
       "    <tr>\n",
       "      <th>Other</th>\n",
       "      <td>167</td>\n",
       "    </tr>\n",
       "    <tr>\n",
       "      <th>Data Science/Scientist</th>\n",
       "      <td>237</td>\n",
       "    </tr>\n",
       "    <tr>\n",
       "      <th>Senior Data Science/Scientist</th>\n",
       "      <td>292</td>\n",
       "    </tr>\n",
       "  </tbody>\n",
       "</table>\n",
       "</div>"
      ],
      "text/plain": [
       "                               count\n",
       "job_level                           \n",
       "Lead Data Science/Scientist       43\n",
       "Principle/Head/Manager           102\n",
       "Other                            167\n",
       "Data Science/Scientist           237\n",
       "Senior Data Science/Scientist    292"
      ]
     },
     "execution_count": 15,
     "metadata": {},
     "output_type": "execute_result"
    }
   ],
   "source": [
    "count_jobs_df = pd.DataFrame(jobs_df.groupby(['job_level']).size().sort_values(ascending=True)).reset_index().rename(columns={0: 'count'}).set_index('job_level')\n",
    "count_jobs_df"
   ]
  },
  {
   "cell_type": "code",
   "execution_count": 16,
   "metadata": {},
   "outputs": [
    {
     "data": {
      "image/png": "[encoded data removed]",
      "text/plain": [
       "<Figure size 640x480 with 1 Axes>"
      ]
     },
     "metadata": {},
     "output_type": "display_data"
    }
   ],
   "source": [
    "ax = count_jobs_df.plot.barh()\n",
    "ax.bar_label(ax.containers[0])\n",
    "plt.title('# Jobs by Levels of Data Science')\n",
    "plt.show()"
   ]
  },
  {
   "cell_type": "markdown",
   "metadata": {},
   "source": [
    "### Count skills"
   ]
  },
  {
   "cell_type": "markdown",
   "metadata": {},
   "source": [
    "#### All DS jobs"
   ]
  },
  {
   "cell_type": "code",
   "execution_count": 17,
   "metadata": {},
   "outputs": [
    {
     "data": {
      "text/plain": [
       "Python                     679\n",
       "SQL                        507\n",
       "Data Science               485\n",
       "Machine Learning           443\n",
       "R                          401\n",
       "Statistics                 319\n",
       "Data Visualization         235\n",
       "Communication              211\n",
       "Tableau                    199\n",
       "Spark                      192\n",
       "Data Analysis              167\n",
       "Machine learning           161\n",
       "AWS                        156\n",
       "Data Mining                139\n",
       "Hadoop                     131\n",
       "Mathematics                126\n",
       "Artificial Intelligence    122\n",
       "Computer Science           122\n",
       "Data Analytics             117\n",
       "Java                       113\n",
       "dtype: int64"
      ]
     },
     "execution_count": 17,
     "metadata": {},
     "output_type": "execute_result"
    }
   ],
   "source": [
    "skill_counts = pd.DataFrame(filter_jobs['job_skills'].str.split(', ', expand=False).values.tolist()).stack().value_counts()\n",
    "all_ds_skills_freq = skill_counts.head(20)\n",
    "all_ds_skills_freq"
   ]
  },
  {
   "cell_type": "code",
   "execution_count": 18,
   "metadata": {},
   "outputs": [
    {
     "data": {
      "image/png": "[encoded data removed]",
      "text/plain": [
       "<Figure size 640x480 with 1 Axes>"
      ]
     },
     "metadata": {},
     "output_type": "display_data"
    }
   ],
   "source": [
    "all_wc = WordCloud(width=800, height=400, background_color='white').generate_from_frequencies(all_ds_skills_freq)\n",
    "\n",
    "plt.imshow(all_wc, interpolation='bilinear')\n",
    "plt.axis('off')\n",
    "plt.title('Word Cloud of Top 20 Data Science Skills', fontsize=12)\n",
    "plt.show()"
   ]
  },
  {
   "cell_type": "code",
   "execution_count": 19,
   "metadata": {},
   "outputs": [
    {
     "data": {
      "text/plain": [
       "['Python', 'SQL', 'Data Science', 'Machine Learning', 'R']"
      ]
     },
     "execution_count": 19,
     "metadata": {},
     "output_type": "execute_result"
    }
   ],
   "source": [
    "top_5_skills = all_ds_skills_freq.index.to_list()[:5]\n",
    "top_5_skills"
   ]
  },
  {
   "cell_type": "markdown",
   "metadata": {},
   "source": [
    "#### Per each level"
   ]
  },
  {
   "cell_type": "markdown",
   "metadata": {},
   "source": [
    "##### Principal/Head/Manager"
   ]
  },
  {
   "cell_type": "code",
   "execution_count": 20,
   "metadata": {},
   "outputs": [
    {
     "data": {
      "text/plain": [
       "Tableau               34\n",
       "AWS                   34\n",
       "Communication         28\n",
       "Statistics            27\n",
       "Data Visualization    25\n",
       "dtype: int64"
      ]
     },
     "execution_count": 20,
     "metadata": {},
     "output_type": "execute_result"
    }
   ],
   "source": [
    "pd.DataFrame(pr_he_ma_df['job_skills'].str.split(', ', expand=False).values.tolist()).stack().loc[lambda x: ~x.str.contains('|'.join(top_5_skills))].value_counts().head(5)"
   ]
  },
  {
   "cell_type": "code",
   "execution_count": 21,
   "metadata": {},
   "outputs": [
    {
     "data": {
      "text/plain": [
       "Python              86\n",
       "SQL                 74\n",
       "Data Science        63\n",
       "R                   60\n",
       "Machine Learning    43\n",
       "Tableau             34\n",
       "AWS                 34\n",
       "Communication       28\n",
       "Statistics          27\n",
       "Spark               25\n",
       "dtype: int64"
      ]
     },
     "execution_count": 21,
     "metadata": {},
     "output_type": "execute_result"
    }
   ],
   "source": [
    "pd.DataFrame(pr_he_ma_df['job_skills'].str.split(', ', expand=False).values.tolist()).stack().value_counts().head(10)"
   ]
  },
  {
   "cell_type": "markdown",
   "metadata": {},
   "source": [
    "##### DS"
   ]
  },
  {
   "cell_type": "code",
   "execution_count": 22,
   "metadata": {},
   "outputs": [
    {
     "data": {
      "text/plain": [
       "Statistics            87\n",
       "Data Visualization    81\n",
       "Communication         61\n",
       "Data Analysis         61\n",
       "Tableau               56\n",
       "dtype: int64"
      ]
     },
     "execution_count": 22,
     "metadata": {},
     "output_type": "execute_result"
    }
   ],
   "source": [
    "pd.DataFrame(ds_df['job_skills'].str.split(', ', expand=False).values.tolist()).stack().loc[lambda x: ~x.str.contains('|'.join(top_5_skills))].value_counts().head(5)"
   ]
  },
  {
   "cell_type": "code",
   "execution_count": 23,
   "metadata": {},
   "outputs": [
    {
     "data": {
      "text/plain": [
       "Python                195\n",
       "SQL                   156\n",
       "Machine Learning      131\n",
       "Data Science          129\n",
       "R                     109\n",
       "Statistics             87\n",
       "Data Visualization     81\n",
       "Data Analysis          61\n",
       "Communication          61\n",
       "Tableau                56\n",
       "dtype: int64"
      ]
     },
     "execution_count": 23,
     "metadata": {},
     "output_type": "execute_result"
    }
   ],
   "source": [
    "pd.DataFrame(ds_df['job_skills'].str.split(', ', expand=False).values.tolist()).stack().value_counts().head(10)"
   ]
  },
  {
   "cell_type": "markdown",
   "metadata": {},
   "source": [
    "##### Sr. Data Scientist"
   ]
  },
  {
   "cell_type": "code",
   "execution_count": 24,
   "metadata": {},
   "outputs": [
    {
     "data": {
      "text/plain": [
       "Statistics            128\n",
       "Spark                  81\n",
       "Communication          76\n",
       "Data Visualization     71\n",
       "Tableau                67\n",
       "dtype: int64"
      ]
     },
     "execution_count": 24,
     "metadata": {},
     "output_type": "execute_result"
    }
   ],
   "source": [
    "pd.DataFrame(sr_ds_df['job_skills'].str.split(', ', expand=False).values.tolist()).stack().loc[lambda x: ~x.str.contains('|'.join(top_5_skills))].value_counts().head(5)"
   ]
  },
  {
   "cell_type": "code",
   "execution_count": 25,
   "metadata": {},
   "outputs": [
    {
     "data": {
      "text/plain": [
       "Python                251\n",
       "SQL                   184\n",
       "Data Science          172\n",
       "Machine Learning      172\n",
       "R                     146\n",
       "Statistics            128\n",
       "Spark                  81\n",
       "Communication          76\n",
       "Data Visualization     71\n",
       "Tableau                67\n",
       "dtype: int64"
      ]
     },
     "execution_count": 25,
     "metadata": {},
     "output_type": "execute_result"
    }
   ],
   "source": [
    "pd.DataFrame(sr_ds_df['job_skills'].str.split(', ', expand=False).values.tolist()).stack().value_counts().head(10)"
   ]
  },
  {
   "cell_type": "markdown",
   "metadata": {},
   "source": [
    "##### Lead Data Scientist"
   ]
  },
  {
   "cell_type": "code",
   "execution_count": 26,
   "metadata": {},
   "outputs": [
    {
     "data": {
      "text/plain": [
       "Statistics       25\n",
       "Spark            17\n",
       "Communication    14\n",
       "Tableau          14\n",
       "AWS              13\n",
       "dtype: int64"
      ]
     },
     "execution_count": 26,
     "metadata": {},
     "output_type": "execute_result"
    }
   ],
   "source": [
    "pd.DataFrame(le_ds_df['job_skills'].str.split(', ', expand=False).values.tolist()).stack().loc[lambda x: ~x.str.contains('|'.join(top_5_skills))].value_counts().head(5)"
   ]
  },
  {
   "cell_type": "code",
   "execution_count": 27,
   "metadata": {},
   "outputs": [
    {
     "data": {
      "text/plain": [
       "Python              39\n",
       "Machine Learning    26\n",
       "SQL                 26\n",
       "Statistics          25\n",
       "R                   24\n",
       "Data Science        24\n",
       "Spark               17\n",
       "Communication       14\n",
       "Tableau             14\n",
       "AWS                 13\n",
       "dtype: int64"
      ]
     },
     "execution_count": 27,
     "metadata": {},
     "output_type": "execute_result"
    }
   ],
   "source": [
    "pd.DataFrame(le_ds_df['job_skills'].str.split(', ', expand=False).values.tolist()).stack().value_counts().head(10)"
   ]
  }
 ],
 "metadata": {
  "kernelspec": {
   "display_name": "Python 3",
   "language": "python",
   "name": "python3"
  },
  "language_info": {
   "codemirror_mode": {
    "name": "ipython",
    "version": 3
   },
   "file_extension": ".py",
   "mimetype": "text/x-python",
   "name": "python",
   "nbconvert_exporter": "python",
   "pygments_lexer": "ipython3",
   "version": "3.8.18"
  }
 },
 "nbformat": 4,
 "nbformat_minor": 2
}
